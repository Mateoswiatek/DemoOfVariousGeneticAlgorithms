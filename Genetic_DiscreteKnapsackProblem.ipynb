{
 "cells": [
  {
   "metadata": {},
   "cell_type": "markdown",
   "source": [
    "Problem plecakowy.\n",
    "Strategie typu\n",
    "- Wybierz najdroższe przedmioty\n",
    "- Wybierz najlżejsze przedmioty\n",
    "\n",
    "Niekoniecznie osiągną najlepsze rezultaty."
   ],
   "id": "47aa22dc18f60c1d"
  },
  {
   "cell_type": "code",
   "id": "initial_id",
   "metadata": {
    "collapsed": true,
    "ExecuteTime": {
     "end_time": "2024-06-18T20:14:12.115627Z",
     "start_time": "2024-06-18T20:14:12.101427Z"
    }
   },
   "source": [
    "import random\n",
    "import pandas as pd"
   ],
   "outputs": [],
   "execution_count": 170
  },
  {
   "metadata": {
    "ExecuteTime": {
     "end_time": "2024-06-18T20:14:12.146798Z",
     "start_time": "2024-06-18T20:14:12.140646Z"
    }
   },
   "cell_type": "code",
   "source": "items = [(random.randint(1, 100), random.randint(1, 100)) for _ in range(20)]",
   "id": "6bb44a5c77b15b61",
   "outputs": [],
   "execution_count": 171
  },
  {
   "metadata": {
    "ExecuteTime": {
     "end_time": "2024-06-18T20:14:12.162032Z",
     "start_time": "2024-06-18T20:14:12.147799Z"
    }
   },
   "cell_type": "code",
   "source": [
    "items = pd.DataFrame(items, columns=['Weight', 'Value'])\n",
    "items.index.name = 'Items'"
   ],
   "id": "c44d1fde8a779c15",
   "outputs": [],
   "execution_count": 172
  },
  {
   "metadata": {
    "ExecuteTime": {
     "end_time": "2024-06-18T20:14:12.177394Z",
     "start_time": "2024-06-18T20:14:12.163220Z"
    }
   },
   "cell_type": "code",
   "source": "items.T",
   "id": "a7f24c48abc8194",
   "outputs": [
    {
     "data": {
      "text/plain": [
       "Items   0   1   2   3   4   5   6   7   8   9   10  11  12  13  14  15  16  \\\n",
       "Weight  17  59  87  52  52  47  76  84  27  12  95  36  94  14  79  59  12   \n",
       "Value   70  69   9   5  88  56  60  61  72  94  77  35  58  20  96  30  69   \n",
       "\n",
       "Items   17  18  19  \n",
       "Weight  19  70  37  \n",
       "Value    3  55  91  "
      ],
      "text/html": [
       "<div>\n",
       "<style scoped>\n",
       "    .dataframe tbody tr th:only-of-type {\n",
       "        vertical-align: middle;\n",
       "    }\n",
       "\n",
       "    .dataframe tbody tr th {\n",
       "        vertical-align: top;\n",
       "    }\n",
       "\n",
       "    .dataframe thead th {\n",
       "        text-align: right;\n",
       "    }\n",
       "</style>\n",
       "<table border=\"1\" class=\"dataframe\">\n",
       "  <thead>\n",
       "    <tr style=\"text-align: right;\">\n",
       "      <th>Items</th>\n",
       "      <th>0</th>\n",
       "      <th>1</th>\n",
       "      <th>2</th>\n",
       "      <th>3</th>\n",
       "      <th>4</th>\n",
       "      <th>5</th>\n",
       "      <th>6</th>\n",
       "      <th>7</th>\n",
       "      <th>8</th>\n",
       "      <th>9</th>\n",
       "      <th>10</th>\n",
       "      <th>11</th>\n",
       "      <th>12</th>\n",
       "      <th>13</th>\n",
       "      <th>14</th>\n",
       "      <th>15</th>\n",
       "      <th>16</th>\n",
       "      <th>17</th>\n",
       "      <th>18</th>\n",
       "      <th>19</th>\n",
       "    </tr>\n",
       "  </thead>\n",
       "  <tbody>\n",
       "    <tr>\n",
       "      <th>Weight</th>\n",
       "      <td>17</td>\n",
       "      <td>59</td>\n",
       "      <td>87</td>\n",
       "      <td>52</td>\n",
       "      <td>52</td>\n",
       "      <td>47</td>\n",
       "      <td>76</td>\n",
       "      <td>84</td>\n",
       "      <td>27</td>\n",
       "      <td>12</td>\n",
       "      <td>95</td>\n",
       "      <td>36</td>\n",
       "      <td>94</td>\n",
       "      <td>14</td>\n",
       "      <td>79</td>\n",
       "      <td>59</td>\n",
       "      <td>12</td>\n",
       "      <td>19</td>\n",
       "      <td>70</td>\n",
       "      <td>37</td>\n",
       "    </tr>\n",
       "    <tr>\n",
       "      <th>Value</th>\n",
       "      <td>70</td>\n",
       "      <td>69</td>\n",
       "      <td>9</td>\n",
       "      <td>5</td>\n",
       "      <td>88</td>\n",
       "      <td>56</td>\n",
       "      <td>60</td>\n",
       "      <td>61</td>\n",
       "      <td>72</td>\n",
       "      <td>94</td>\n",
       "      <td>77</td>\n",
       "      <td>35</td>\n",
       "      <td>58</td>\n",
       "      <td>20</td>\n",
       "      <td>96</td>\n",
       "      <td>30</td>\n",
       "      <td>69</td>\n",
       "      <td>3</td>\n",
       "      <td>55</td>\n",
       "      <td>91</td>\n",
       "    </tr>\n",
       "  </tbody>\n",
       "</table>\n",
       "</div>"
      ]
     },
     "execution_count": 173,
     "metadata": {},
     "output_type": "execute_result"
    }
   ],
   "execution_count": 173
  },
  {
   "metadata": {
    "ExecuteTime": {
     "end_time": "2024-06-18T20:14:12.192533Z",
     "start_time": "2024-06-18T20:14:12.178394Z"
    }
   },
   "cell_type": "code",
   "source": [
    "weightLimit = 200\n",
    "numberOfAgents = 100"
   ],
   "id": "85c768fda6116de9",
   "outputs": [],
   "execution_count": 174
  },
  {
   "metadata": {},
   "cell_type": "markdown",
   "source": [
    "Funkcja do generowania genomów\n",
    "\n",
    "Genom\n",
    "dla każdego można dać 0/1.\n",
    "albo bierzemy albo nie.\n",
    "\n",
    "20% że weźmie."
   ],
   "id": "b7c60be7f1860bf6"
  },
  {
   "metadata": {
    "ExecuteTime": {
     "end_time": "2024-06-18T20:14:12.207842Z",
     "start_time": "2024-06-18T20:14:12.193706Z"
    }
   },
   "cell_type": "code",
   "source": [
    "# class Agent:\n",
    "#     def __init__(self, genom):\n",
    "#         self.genom = genom\n",
    "#         self.score = 0"
   ],
   "id": "a814185a99e0aea3",
   "outputs": [],
   "execution_count": 175
  },
  {
   "metadata": {
    "ExecuteTime": {
     "end_time": "2024-06-18T20:14:12.223089Z",
     "start_time": "2024-06-18T20:14:12.208844Z"
    }
   },
   "cell_type": "code",
   "source": "# genom = [random.randint(0,5) == 0 for _ in range(len(items))]",
   "id": "6f360656b6a5c264",
   "outputs": [],
   "execution_count": 176
  },
  {
   "metadata": {
    "ExecuteTime": {
     "end_time": "2024-06-18T20:14:12.238342Z",
     "start_time": "2024-06-18T20:14:12.224149Z"
    }
   },
   "cell_type": "code",
   "source": [
    "def createPopulation(numberOfAgents: int):\n",
    "    return [[random.randint(0, 5) == 0 for _ in range(len(items))] for _ in range(numberOfAgents)]"
   ],
   "id": "83e8c166f782bc1",
   "outputs": [],
   "execution_count": 177
  },
  {
   "metadata": {},
   "cell_type": "markdown",
   "source": [
    "FitnessFunction \n",
    "\n",
    "Dążymy do maxa wszystkich wartości w plecaku.\n",
    "\n",
    "Limit - zwracamy 0 jeśli przekroczy limit.\n"
   ],
   "id": "eadd345ebb0aa2dd"
  },
  {
   "metadata": {
    "ExecuteTime": {
     "end_time": "2024-06-18T20:14:12.253652Z",
     "start_time": "2024-06-18T20:14:12.239344Z"
    }
   },
   "cell_type": "code",
   "source": [
    "def fitnessFunction(genoms: list):\n",
    "    selectedItems  = items[genoms]\n",
    "    weightSum = selectedItems['Weight'].sum()\n",
    "    valueSum = selectedItems['Value'].sum()\n",
    "    return 0 if weightSum > weightLimit else valueSum"
   ],
   "id": "dde192f35fbd76f3",
   "outputs": [],
   "execution_count": 178
  },
  {
   "metadata": {},
   "cell_type": "markdown",
   "source": [
    "Selection\n",
    "\n",
    "Wybieramy tylko te które spełniają warunki (nie przekracza wagi)\n",
    "I z tych wybieramy najlepsze 20%"
   ],
   "id": "3bc3ca9d1d891bb3"
  },
  {
   "metadata": {
    "ExecuteTime": {
     "end_time": "2024-06-18T20:14:12.268820Z",
     "start_time": "2024-06-18T20:14:12.254654Z"
    }
   },
   "cell_type": "code",
   "source": [
    "def selectionSortedValid(population):\n",
    "    theBestGenoms = []\n",
    "    for gene in population:\n",
    "        value = fitnessFunction(gene)\n",
    "        if value > 0:\n",
    "            theBestGenoms.append((value, gene))\n",
    "    return [gene for _, gene in sorted(theBestGenoms, key=lambda x: x[0], reverse=True)]\n",
    "\n",
    "def selectTheBest(valid, population, percent=0.5):\n",
    "    limit = int(len(population) * percent)\n",
    "    return valid[:limit] if len(valid) > limit else population"
   ],
   "id": "5409b1d90d2d51e2",
   "outputs": [],
   "execution_count": 179
  },
  {
   "metadata": {},
   "cell_type": "markdown",
   "source": "Crossing",
   "id": "3a4dd7e0e35a3cb2"
  },
  {
   "metadata": {
    "ExecuteTime": {
     "end_time": "2024-06-18T20:14:12.284131Z",
     "start_time": "2024-06-18T20:14:12.269822Z"
    }
   },
   "cell_type": "code",
   "source": [
    "def crossing(genom1, genom2):\n",
    "    mask = [random.choice([True, False]) for _ in range(len(items))]\n",
    "    return [genom1[i] if mask[i] else genom2[i] for i in range(len(items))]"
   ],
   "id": "885b5647ddeca3ec",
   "outputs": [],
   "execution_count": 180
  },
  {
   "metadata": {},
   "cell_type": "markdown",
   "source": "Mutation",
   "id": "8fca13821e4d9140"
  },
  {
   "metadata": {
    "ExecuteTime": {
     "end_time": "2024-06-18T20:14:12.299263Z",
     "start_time": "2024-06-18T20:14:12.285131Z"
    }
   },
   "cell_type": "code",
   "source": [
    "def mutate(genom):\n",
    "    newGenom = list(genom)\n",
    "    idx = random.randint(0, len(items) - 1)\n",
    "    newGenom[idx] = not bool(newGenom[idx])\n",
    "    \n",
    "def mutateRandom(genom: list, probability=0.2):\n",
    "    return mutate(genom) if random.random < probability else genom"
   ],
   "id": "844b672d0cc2a264",
   "outputs": [],
   "execution_count": 181
  },
  {
   "metadata": {},
   "cell_type": "markdown",
   "source": [
    "Generate new population\n",
    "- Ocena\n",
    "- Wybór najlepszych\n",
    "- Crossing przy reprodukcji\n",
    "- Mutacja"
   ],
   "id": "e2515195eb9078ac"
  },
  {
   "metadata": {
    "ExecuteTime": {
     "end_time": "2024-06-18T20:14:12.314476Z",
     "start_time": "2024-06-18T20:14:12.300263Z"
    }
   },
   "cell_type": "code",
   "source": [
    "def newGeneration(population: list):\n",
    "    newPopulation = []\n",
    "    sortedValid = selectionSortedValid(population)\n",
    "    \n",
    "    if len(sortedValid) == 0:\n",
    "        newPopulation = createPopulation(numberOfAgents)\n",
    "    else:\n",
    "        best = selectTheBest(sortedValid, population, 0.5)\n",
    "        for _ in range(numberOfAgents):\n",
    "            newGenom = crossing(random.choice(best), random.choice(best))\n",
    "            newPopulation.append(newGenom)\n",
    "    return newPopulation"
   ],
   "id": "91ae4012eb037952",
   "outputs": [],
   "execution_count": 182
  },
  {
   "metadata": {
    "ExecuteTime": {
     "end_time": "2024-06-18T20:16:04.905166Z",
     "start_time": "2024-06-18T20:15:55.966089Z"
    }
   },
   "cell_type": "code",
   "source": [
    "population = createPopulation(100)\n",
    "\n",
    "for i in range(600):\n",
    "    population = newGeneration(population)\n",
    "    \n",
    "result = pd.concat([pd.DataFrame(population).mean() * 100, items], axis=1)\n",
    "result.columns = ['Average'] + list(items.columns)\n",
    "result.index.name = items.index.name\n",
    "result.T"
   ],
   "id": "a07c99db2fd3505f",
   "outputs": [
    {
     "data": {
      "text/plain": [
       "Items      0      1     2     3      4     5     6     7      8      9     10  \\\n",
       "Average   0.0  100.0   0.0   0.0  100.0   0.0   0.0   0.0  100.0  100.0   0.0   \n",
       "Weight   17.0   59.0  87.0  52.0   52.0  47.0  76.0  84.0   27.0   12.0  95.0   \n",
       "Value    70.0   69.0   9.0   5.0   88.0  56.0  60.0  61.0   72.0   94.0  77.0   \n",
       "\n",
       "Items      11    12    13    14    15     16    17    18     19  \n",
       "Average   0.0   0.0   0.0   0.0   0.0  100.0   0.0   0.0  100.0  \n",
       "Weight   36.0  94.0  14.0  79.0  59.0   12.0  19.0  70.0   37.0  \n",
       "Value    35.0  58.0  20.0  96.0  30.0   69.0   3.0  55.0   91.0  "
      ],
      "text/html": [
       "<div>\n",
       "<style scoped>\n",
       "    .dataframe tbody tr th:only-of-type {\n",
       "        vertical-align: middle;\n",
       "    }\n",
       "\n",
       "    .dataframe tbody tr th {\n",
       "        vertical-align: top;\n",
       "    }\n",
       "\n",
       "    .dataframe thead th {\n",
       "        text-align: right;\n",
       "    }\n",
       "</style>\n",
       "<table border=\"1\" class=\"dataframe\">\n",
       "  <thead>\n",
       "    <tr style=\"text-align: right;\">\n",
       "      <th>Items</th>\n",
       "      <th>0</th>\n",
       "      <th>1</th>\n",
       "      <th>2</th>\n",
       "      <th>3</th>\n",
       "      <th>4</th>\n",
       "      <th>5</th>\n",
       "      <th>6</th>\n",
       "      <th>7</th>\n",
       "      <th>8</th>\n",
       "      <th>9</th>\n",
       "      <th>10</th>\n",
       "      <th>11</th>\n",
       "      <th>12</th>\n",
       "      <th>13</th>\n",
       "      <th>14</th>\n",
       "      <th>15</th>\n",
       "      <th>16</th>\n",
       "      <th>17</th>\n",
       "      <th>18</th>\n",
       "      <th>19</th>\n",
       "    </tr>\n",
       "  </thead>\n",
       "  <tbody>\n",
       "    <tr>\n",
       "      <th>Average</th>\n",
       "      <td>0.0</td>\n",
       "      <td>100.0</td>\n",
       "      <td>0.0</td>\n",
       "      <td>0.0</td>\n",
       "      <td>100.0</td>\n",
       "      <td>0.0</td>\n",
       "      <td>0.0</td>\n",
       "      <td>0.0</td>\n",
       "      <td>100.0</td>\n",
       "      <td>100.0</td>\n",
       "      <td>0.0</td>\n",
       "      <td>0.0</td>\n",
       "      <td>0.0</td>\n",
       "      <td>0.0</td>\n",
       "      <td>0.0</td>\n",
       "      <td>0.0</td>\n",
       "      <td>100.0</td>\n",
       "      <td>0.0</td>\n",
       "      <td>0.0</td>\n",
       "      <td>100.0</td>\n",
       "    </tr>\n",
       "    <tr>\n",
       "      <th>Weight</th>\n",
       "      <td>17.0</td>\n",
       "      <td>59.0</td>\n",
       "      <td>87.0</td>\n",
       "      <td>52.0</td>\n",
       "      <td>52.0</td>\n",
       "      <td>47.0</td>\n",
       "      <td>76.0</td>\n",
       "      <td>84.0</td>\n",
       "      <td>27.0</td>\n",
       "      <td>12.0</td>\n",
       "      <td>95.0</td>\n",
       "      <td>36.0</td>\n",
       "      <td>94.0</td>\n",
       "      <td>14.0</td>\n",
       "      <td>79.0</td>\n",
       "      <td>59.0</td>\n",
       "      <td>12.0</td>\n",
       "      <td>19.0</td>\n",
       "      <td>70.0</td>\n",
       "      <td>37.0</td>\n",
       "    </tr>\n",
       "    <tr>\n",
       "      <th>Value</th>\n",
       "      <td>70.0</td>\n",
       "      <td>69.0</td>\n",
       "      <td>9.0</td>\n",
       "      <td>5.0</td>\n",
       "      <td>88.0</td>\n",
       "      <td>56.0</td>\n",
       "      <td>60.0</td>\n",
       "      <td>61.0</td>\n",
       "      <td>72.0</td>\n",
       "      <td>94.0</td>\n",
       "      <td>77.0</td>\n",
       "      <td>35.0</td>\n",
       "      <td>58.0</td>\n",
       "      <td>20.0</td>\n",
       "      <td>96.0</td>\n",
       "      <td>30.0</td>\n",
       "      <td>69.0</td>\n",
       "      <td>3.0</td>\n",
       "      <td>55.0</td>\n",
       "      <td>91.0</td>\n",
       "    </tr>\n",
       "  </tbody>\n",
       "</table>\n",
       "</div>"
      ]
     },
     "execution_count": 186,
     "metadata": {},
     "output_type": "execute_result"
    }
   ],
   "execution_count": 186
  },
  {
   "metadata": {
    "ExecuteTime": {
     "end_time": "2024-06-18T20:14:18.255414Z",
     "start_time": "2024-06-18T20:14:18.132428Z"
    }
   },
   "cell_type": "code",
   "source": [
    "import matplotlib.pyplot as plt\n",
    "result[\"Average\"].plot.bar()"
   ],
   "id": "753212257f39b1e9",
   "outputs": [
    {
     "data": {
      "text/plain": [
       "<Axes: xlabel='Items'>"
      ]
     },
     "execution_count": 184,
     "metadata": {},
     "output_type": "execute_result"
    },
    {
     "data": {
      "text/plain": [
       "<Figure size 640x480 with 1 Axes>"
      ],
      "image/png": "[encoded data removed]"
     },
     "metadata": {},
     "output_type": "display_data"
    }
   ],
   "execution_count": 184
  },
  {
   "metadata": {},
   "cell_type": "markdown",
   "source": [
    "Waga = 199 \n",
    "Wartość = 483"
   ],
   "id": "a4e8d58715a31b1d"
  }
 ],
 "metadata": {
  "kernelspec": {
   "display_name": "Python 3",
   "language": "python",
   "name": "python3"
  },
  "language_info": {
   "codemirror_mode": {
    "name": "ipython",
    "version": 2
   },
   "file_extension": ".py",
   "mimetype": "text/x-python",
   "name": "python",
   "nbconvert_exporter": "python",
   "pygments_lexer": "ipython2",
   "version": "2.7.6"
  }
 },
 "nbformat": 4,
 "nbformat_minor": 5
}
